{
 "cells": [
  {
   "cell_type": "markdown",
   "metadata": {},
   "source": [
    "## Rover Project Test Notebook\n",
    "This notebook contains the functions from the lesson and provides the scaffolding you need to test out your mapping methods.  The steps you need to complete in this notebook for the project are the following:\n",
    "\n",
    "* First just run each of the cells in the notebook, examine the code and the results of each.\n",
    "* Run the simulator in \"Training Mode\" and record some data. Note: the simulator may crash if you try to record a large (longer than a few minutes) dataset, but you don't need a ton of data, just some example images to work with.   \n",
    "* Change the data directory path (2 cells below) to be the directory where you saved data\n",
    "* Test out the functions provided on your data\n",
    "* Write new functions (or modify existing ones) to report and map out detections of obstacles and rock samples (yellow rocks)\n",
    "* Populate the `process_image()` function with the appropriate steps/functions to go from a raw image to a worldmap.\n",
    "* Run the cell that calls `process_image()` using `moviepy` functions to create video output\n",
    "* Once you have mapping working, move on to modifying `perception.py` and `decision.py` to allow your rover to navigate and map in autonomous mode!\n",
    "\n",
    "**Note: If, at any point, you encounter frozen display windows or other confounding issues, you can always start again with a clean slate by going to the \"Kernel\" menu above and selecting \"Restart & Clear Output\".**\n",
    "\n",
    "**Run the next cell to get code highlighting in the markdown cells.**"
   ]
  },
  {
   "cell_type": "code",
   "execution_count": 1,
   "metadata": {},
   "outputs": [
    {
     "data": {
      "text/html": [
       "<style> code {background-color : orange !important;} </style>"
      ],
      "text/plain": [
       "<IPython.core.display.HTML object>"
      ]
     },
     "metadata": {},
     "output_type": "display_data"
    }
   ],
   "source": [
    "%%HTML\n",
    "<style> code {background-color : orange !important;} </style>"
   ]
  },
  {
   "cell_type": "code",
   "execution_count": 2,
   "metadata": {
    "outputExpanded": false
   },
   "outputs": [
    {
     "name": "stdout",
     "output_type": "stream",
     "text": [
      "Imageio: 'ffmpeg.linux64' was not found on your computer; downloading it now.\n",
      "Try 1. Download from https://github.com/imageio/imageio-binaries/raw/master/ffmpeg/ffmpeg.linux64 (27.2 MB)\n"
     ]
    },
    {
     "name": "stdout",
     "output_type": "stream",
     "text": [
      "Downloading: 8192/28549024 bytes (0.016384/28549024 bytes (0.1%40960/28549024 bytes (0.1%90112/28549024 bytes (0.3%139264/28549024 bytes (0.5221184/28549024 bytes (0.8270336/28549024 bytes (0.9450560/28549024 bytes (1.6647168/28549024 bytes (2.3794624/28549024 bytes (2.8876544/28549024 bytes (3.11024000/28549024 bytes (3.6%1155072/28549024 bytes (4.0%1286144/28549024 bytes (4.5%1433600/28549024 bytes (5.0%1597440/28549024 bytes (5.6%1712128/28549024 bytes (6.0%1826816/28549024 bytes (6.4%1974272/28549024 bytes (6.9%2121728/28549024 bytes (7.4%2154496/28549024 bytes (7.5%2301952/28549024 bytes (8.1%2449408/28549024 bytes (8.6%2564096/28549024 bytes (9.0%2777088/28549024 bytes (9.7%2859008/28549024 bytes (10.02957312/28549024 bytes (10.43055616/28549024 bytes (10.73170304/28549024 bytes (11.13284992/28549024 bytes (11.53465216/28549024 bytes (12.13579904/28549024 bytes (12.53760128/28549024 bytes (13.23891200/28549024 bytes (13.64022272/28549024 bytes (14.14104192/28549024 bytes (14.44153344/28549024 bytes (14.54300800/28549024 bytes (15.14481024/28549024 bytes (15.74612096/28549024 bytes (16.24694016/28549024 bytes (16.44759552/28549024 bytes (16.74841472/28549024 bytes (17.04939776/28549024 bytes (17.35038080/28549024 bytes (17.65128192/28549024 bytes (18.05201920/28549024 bytes (18.25283840/28549024 bytes (18.55382144/28549024 bytes (18.95464064/28549024 bytes (19.15562368/28549024 bytes (19.55644288/28549024 bytes (19.85742592/28549024 bytes (20.15824512/28549024 bytes (20.45922816/28549024 bytes (20.76021120/28549024 bytes (21.16119424/28549024 bytes (21.46201344/28549024 bytes (21.76299648/28549024 bytes (22.16381568/28549024 bytes (22.46496256/28549024 bytes (22.86578176/28549024 bytes (23.06676480/28549024 bytes (23.46758400/28549024 bytes (23.76873088/28549024 bytes (24.16971392/28549024 bytes (24.47053312/28549024 bytes (24.77135232/28549024 bytes (25.07249920/28549024 bytes (25.47331840/28549024 bytes (25.77446528/28549024 bytes (26.17536640/28549024 bytes (26.47643136/28549024 bytes (26.87741440/28549024 bytes (27.17856128/28549024 bytes (27.57938048/28549024 bytes (27.88036352/28549024 bytes (28.18167424/28549024 bytes (28.68232960/28549024 bytes (28.88347648/28549024 bytes (29.28413184/28549024 bytes (29.58511488/28549024 bytes (29.88626176/28549024 bytes (30.28724480/28549024 bytes (30.68806400/28549024 bytes (30.88855552/28549024 bytes (31.08953856/28549024 bytes (31.49052160/28549024 bytes (31.79150464/28549024 bytes (32.19248768/28549024 bytes (32.49347072/28549024 bytes (32.79428992/28549024 bytes (33.09543680/28549024 bytes (33.49609216/28549024 bytes (33.79707520/28549024 bytes (34.09805824/28549024 bytes (34.39904128/28549024 bytes (34.710018816/28549024 bytes (35.1%10133504/28549024 bytes (35.5%10231808/28549024 bytes (35.8%10330112/28549024 bytes (36.2%10428416/28549024 bytes (36.5%10543104/28549024 bytes (36.9%10657792/28549024 bytes (37.3%10739712/28549024 bytes (37.6%10870784/28549024 bytes (38.1%10969088/28549024 bytes (38.4%11051008/28549024 bytes (38.7%11132928/28549024 bytes (39.0%11247616/28549024 bytes (39.4%11362304/28549024 bytes (39.8%11493376/28549024 bytes (40.3%11624448/28549024 bytes (40.7%11771904/28549024 bytes (41.2%11919360/28549024 bytes (41.8%12034048/28549024 bytes (42.2%12132352/28549024 bytes (42.5%12263424/28549024 bytes (43.0%12378112/28549024 bytes (43.4%12525568/28549024 bytes (43.9%12623872/28549024 bytes (44.2%12787712/28549024 bytes (44.8%12804096/28549024 bytes (44.8%13131776/28549024 bytes (46.0%13230080/28549024 bytes (46.3%13361152/28549024 bytes (46.8%13475840/28549024 bytes (47.2%13590528/28549024 bytes (47.6%13688832/28549024 bytes (47.9%13819904/28549024 bytes (48.4%13950976/28549024 bytes (48.9%14082048/28549024 bytes (49.3%14229504/28549024 bytes (49.8%14376960/28549024 bytes (50.4%14475264/28549024 bytes (50.7%14622720/28549024 bytes (51.2%14753792/28549024 bytes (51.7%14884864/28549024 bytes (52.1%15032320/28549024 bytes (52.7%15245312/28549024 bytes (53.4%15376384/28549024 bytes (53.9%15409152/28549024 bytes (54.0%15605760/28549024 bytes (54.7%15638528/28549024 bytes (54.8%15982592/28549024 bytes (56.0%16048128/28549024 bytes (56.2%16113664/28549024 bytes (56.4%16162816/28549024 bytes (56.6%16326656/28549024 bytes (57.2%16392192/28549024 bytes (57.4%16457728/28549024 bytes (57.6%16523264/28549024 bytes (57.9%16605184/28549024 bytes (58.2%16670720/28549024 bytes (58.4%16752640/28549024 bytes (58.7%16932864/28549024 bytes (59.3%16982016/28549024 bytes (59.5%17047552/28549024 bytes (59.7%17113088/28549024 bytes (59.9%17178624/28549024 bytes (60.2%17244160/28549024 bytes (60.4%17309696/28549024 bytes (60.6%17391616/28549024 bytes (60.9%17440768/28549024 bytes (61.1%17571840/28549024 bytes (61.5%17620992/28549024 bytes (61.7%17653760/28549024 bytes (61.8%17719296/28549024 bytes (62.1%17768448/28549024 bytes (62.2%17833984/28549024 bytes (62.5%17883136/28549024 bytes (62.6%17932288/28549024 bytes (62.8%18014208/28549024 bytes (63.1%18063360/28549024 bytes (63.3%18128896/28549024 bytes (63.5%18194432/28549024 bytes (63.7%18259968/28549024 bytes (64.0%18309120/28549024 bytes (64.1%18374656/28549024 bytes (64.4%18440192/28549024 bytes (64.6%18505728/28549024 bytes (64.8%18554880/28549024 bytes (65.0%18604032/28549024 bytes (65.2%18669568/28549024 bytes (65.4%18751488/28549024 bytes (65.7%18817024/28549024 bytes (65.9%18849792/28549024 bytes (66.0%18931712/28549024 bytes (66.3%18964480/28549024 bytes (66.4%18997248/28549024 bytes (66.5%19030016/28549024 bytes (66.7%19062784/28549024 bytes (66.8%19128320/28549024 bytes (67.0%19193856/28549024 bytes (67.2%19226624/28549024 bytes (67.3%19243008/28549024 bytes (67.4%19275776/28549024 bytes (67.5%19308544/28549024 bytes (67.6%19341312/28549024 bytes (67.7%19374080/28549024 bytes (67.9%19406848/28549024 bytes (68.0%19439616/28549024 bytes (68.1%19472384/28549024 bytes (68.2%19505152/28549024 bytes (68.3%19537920/28549024 bytes (68.4%19570688/28549024 bytes (68.6%19603456/28549024 bytes (68.7%19636224/28549024 bytes (68.8%19668992/28549024 bytes (68.9%19734528/28549024 bytes (69.1%19750912/28549024 bytes (69.2%19783680/28549024 bytes (69.3%19816448/28549024 bytes (69.4%19849216/28549024 bytes (69.5%19881984/28549024 bytes (69.6%19906560/28549024 bytes (69.7%19931136/28549024 bytes (69.8%19963904/28549024 bytes (69.9%19996672/28549024 bytes (70.0%20029440/28549024 bytes (70.2%20062208/28549024 bytes (70.3%20094976/28549024 bytes (70.4%20127744/28549024 bytes (70.5%20160512/28549024 bytes (70.6%20201472/28549024 bytes (70.8%20226048/28549024 bytes (70.8%20258816/28549024 bytes (71.0%20291584/28549024 bytes (71.1%20324352/28549024 bytes (71.2%20340736/28549024 bytes (71.2%20406272/28549024 bytes (71.5%20422656/28549024 bytes (71.5%20455424/28549024 bytes (71.7%20471808/28549024 bytes (71.7%20504576/28549024 bytes (71.8%20537344/28549024 bytes (71.9%20553728/28549024 bytes (72.0%20586496/28549024 bytes (72.1%20619264/28549024 bytes (72.2%20652032/28549024 bytes (72.3%20717568/28549024 bytes (72.6%20733952/28549024 bytes (72.6%20766720/28549024 bytes (72.7%20799488/28549024 bytes (72.9%20832256/28549024 bytes (73.0%20873216/28549024 bytes (73.1%20897792/28549024 bytes (73.2%20930560/28549024 bytes (73.3%20963328/28549024 bytes (73.4%20979712/28549024 bytes (73.5%21045248/28549024 bytes (73.7%21078016/28549024 bytes (73.8%21110784/28549024 bytes (73.9%21127168/28549024 bytes (74.0%21159936/28549024 bytes (74.1%21192704/28549024 bytes (74.2%21209088/28549024 bytes (74.3%21241856/28549024 bytes (74.4%21274624/28549024 bytes (74.5%21307392/28549024 bytes (74.6%21340160/28549024 bytes (74.7%21372928/28549024 bytes (74.9%21405696/28549024 bytes (75.0%21438464/28549024 bytes (75.1%21454848/28549024 bytes (75.2%21487616/28549024 bytes (75.3%21520384/28549024 bytes (75.4%21536768/28549024 bytes (75.4%21569536/28549024 bytes (75.6%21602304/28549024 bytes (75.7%21635072/28549024 bytes (75.8%21667840/28549024 bytes (75.9%21700608/28549024 bytes (76.0%21733376/28549024 bytes (76.1%21766144/28549024 bytes (76.2%21798912/28549024 bytes (76.4%21839872/28549024 bytes (76.5%21864448/28549024 bytes (76.6%21897216/28549024 bytes (76.7%21929984/28549024 bytes (76.8%)"
     ]
    },
    {
     "name": "stdout",
     "output_type": "stream",
     "text": [
      "\b21962752/28549024 bytes (76.9%21995520/28549024 bytes (77.0%22044672/28549024 bytes (77.2%22077440/28549024 bytes (77.3%22110208/28549024 bytes (77.4%22142976/28549024 bytes (77.6%22175744/28549024 bytes (77.7%22208512/28549024 bytes (77.8%22241280/28549024 bytes (77.9%22274048/28549024 bytes (78.0%22306816/28549024 bytes (78.1%22355968/28549024 bytes (78.3%22405120/28549024 bytes (78.5%22454272/28549024 bytes (78.7%22495232/28549024 bytes (78.8%22536192/28549024 bytes (78.9%22568960/28549024 bytes (79.1%22618112/28549024 bytes (79.2%22667264/28549024 bytes (79.4%22716416/28549024 bytes (79.6%22765568/28549024 bytes (79.7%22831104/28549024 bytes (80.0%22880256/28549024 bytes (80.1%22929408/28549024 bytes (80.3%22978560/28549024 bytes (80.5%23044096/28549024 bytes (80.7%23109632/28549024 bytes (80.9%23175168/28549024 bytes (81.2%23224320/28549024 bytes (81.3%23306240/28549024 bytes (81.6%23388160/28549024 bytes (81.9%23470080/28549024 bytes (82.2%23568384/28549024 bytes (82.6%23666688/28549024 bytes (82.9%23748608/28549024 bytes (83.2%23846912/28549024 bytes (83.5%23945216/28549024 bytes (83.9%24027136/28549024 bytes (84.2%24109056/28549024 bytes (84.4%24223744/28549024 bytes (84.8%24338432/28549024 bytes (85.3%24436736/28549024 bytes (85.6%24551424/28549024 bytes (86.0%24682496/28549024 bytes (86.5%24797184/28549024 bytes (86.9%24944640/28549024 bytes (87.4%25075712/28549024 bytes (87.8%25206784/28549024 bytes (88.3%25370624/28549024 bytes (88.9%25534464/28549024 bytes (89.4%25681920/28549024 bytes (90.0%25796608/28549024 bytes (90.4%25812992/28549024 bytes (90.4%26025984/28549024 bytes (91.2%26255360/28549024 bytes (92.0%26361856/28549024 bytes (92.3%26468352/28549024 bytes (92.7%26517504/28549024 bytes (92.9%26664960/28549024 bytes (93.4%26779648/28549024 bytes (93.8%26943488/28549024 bytes (94.4%27058176/28549024 bytes (94.8%27189248/28549024 bytes (95.2%27336704/28549024 bytes (95.8%27484160/28549024 bytes (96.3%27615232/28549024 bytes (96.7%27746304/28549024 bytes (97.2%27877376/28549024 bytes (97.6%28041216/28549024 bytes (98.2%28188672/28549024 bytes (98.7%28221440/28549024 bytes (98.9%28418048/28549024 bytes (99.5%28532736/28549024 bytes (99.9%28549024/28549024 bytes (100.0%)\n",
      "  Done\n",
      "File saved as /home/polo/.imageio/ffmpeg/ffmpeg.linux64.\n"
     ]
    }
   ],
   "source": [
    "%matplotlib inline\n",
    "#%matplotlib qt # Choose %matplotlib qt to plot to an interactive window (note it may show up behind your browser)\n",
    "# Make some of the relevant imports\n",
    "import cv2 # OpenCV for perspective transform\n",
    "import numpy as np\n",
    "import matplotlib.image as mpimg\n",
    "import matplotlib.pyplot as plt\n",
    "import scipy.misc # For saving images as needed\n",
    "import glob  # For reading in a list of images from a folder\n",
    "import imageio\n",
    "imageio.plugins.ffmpeg.download()\n"
   ]
  },
  {
   "cell_type": "markdown",
   "metadata": {},
   "source": [
    "## Quick Look at the Data\n",
    "There's some example data provided in the `test_dataset` folder.  This basic dataset is enough to get you up and running but if you want to hone your methods more carefully you should record some data of your own to sample various scenarios in the simulator.  \n",
    "\n",
    "Next, read in and display a random image from the `test_dataset` folder"
   ]
  },
  {
   "cell_type": "code",
   "execution_count": null,
   "metadata": {
    "collapsed": true,
    "outputExpanded": false,
    "scrolled": true
   },
   "outputs": [],
   "source": [
    "path = '../test_dataset/IMG/*'\n",
    "img_list = glob.glob(path)\n",
    "# Grab a random image and display it\n",
    "idx = np.random.randint(0, len(img_list)-1)\n",
    "image = mpimg.imread(img_list[idx])\n",
    "plt.imshow(image)"
   ]
  },
  {
   "cell_type": "markdown",
   "metadata": {},
   "source": [
    "## Calibration Data\n",
    "Read in and display example grid and rock sample calibration images.  You'll use the grid for perspective transform and the rock image for creating a new color selection that identifies these samples of interest. "
   ]
  },
  {
   "cell_type": "code",
   "execution_count": null,
   "metadata": {
    "collapsed": true
   },
   "outputs": [],
   "source": [
    "# In the simulator you can toggle on a grid on the ground for calibration\n",
    "# You can also toggle on the rock samples with the 0 (zero) key.  \n",
    "# Here's an example of the grid and one of the rocks\n",
    "example_grid = '../calibration_images/example_grid1.jpg'\n",
    "example_rock = '../calibration_images/example_rock1.jpg'\n",
    "grid_img = mpimg.imread(example_grid)\n",
    "rock_img = mpimg.imread(example_rock)\n",
    "\n",
    "fig = plt.figure(figsize=(12,3))\n",
    "plt.subplot(121)\n",
    "plt.imshow(grid_img)\n",
    "plt.subplot(122)\n",
    "plt.imshow(rock_img)"
   ]
  },
  {
   "cell_type": "markdown",
   "metadata": {},
   "source": [
    "## Perspective Transform\n",
    "\n",
    "Define the perspective transform function from the lesson and test it on an image."
   ]
  },
  {
   "cell_type": "code",
   "execution_count": null,
   "metadata": {
    "collapsed": true
   },
   "outputs": [],
   "source": [
    "# Define a function to perform a perspective transform\n",
    "# I've used the example grid image above to choose source points for the\n",
    "# grid cell in front of the rover (each grid cell is 1 square meter in the sim)\n",
    "# Define a function to perform a perspective transform\n",
    "def perspect_transform(img, src, dst):\n",
    "           \n",
    "    M = cv2.getPerspectiveTransform(src, dst)\n",
    "    warped = cv2.warpPerspective(img, M, (img.shape[1], img.shape[0]))# keep same size as input image\n",
    "    \n",
    "    return warped\n",
    "\n",
    "\n",
    "# Define calibration box in source (actual) and destination (desired) coordinates\n",
    "# These source and destination points are defined to warp the image\n",
    "# to a grid where each 10x10 pixel square represents 1 square meter\n",
    "# The destination box will be 2*dst_size on each side\n",
    "dst_size = 5 \n",
    "# Set a bottom offset to account for the fact that the bottom of the image \n",
    "# is not the position of the rover but a bit in front of it\n",
    "# this is just a rough guess, feel free to change it!\n",
    "bottom_offset = 6\n",
    "source = np.float32([[14, 140], [301 ,140],[200, 96], [118, 96]])\n",
    "destination = np.float32([[image.shape[1]/2 - dst_size, image.shape[0] - bottom_offset],\n",
    "                  [image.shape[1]/2 + dst_size, image.shape[0] - bottom_offset],\n",
    "                  [image.shape[1]/2 + dst_size, image.shape[0] - 2*dst_size - bottom_offset], \n",
    "                  [image.shape[1]/2 - dst_size, image.shape[0] - 2*dst_size - bottom_offset],\n",
    "                  ])\n",
    "warped = perspect_transform(grid_img, source, destination)\n",
    "plt.imshow(warped)\n",
    "#scipy.misc.imsave('../output/warped_example.jpg', warped)"
   ]
  },
  {
   "cell_type": "markdown",
   "metadata": {},
   "source": [
    "## Color Thresholding\n",
    "Define the color thresholding function from the lesson and apply it to the warped image\n",
    "\n",
    "**TODO:** Ultimately, you want your map to not just include navigable terrain but also obstacles and the positions of the rock samples you're searching for.  Modify this function or write a new function that returns the pixel locations of obstacles (areas below the threshold) and rock samples (yellow rocks in calibration images), such that you can map these areas into world coordinates as well.  \n",
    "**Hints and Suggestion:** \n",
    "* For obstacles you can just invert your color selection that you used to detect ground pixels, i.e., if you've decided that everything above the threshold is navigable terrain, then everthing below the threshold must be an obstacle!\n",
    "\n",
    "\n",
    "* For rocks, think about imposing a lower and upper boundary in your color selection to be more specific about choosing colors.  You can investigate the colors of the rocks (the RGB pixel values) in an interactive matplotlib window to get a feel for the appropriate threshold range (keep in mind you may want different ranges for each of R, G and B!).  Feel free to get creative and even bring in functions from other libraries.  Here's an example of [color selection](http://opencv-python-tutroals.readthedocs.io/en/latest/py_tutorials/py_imgproc/py_colorspaces/py_colorspaces.html) using OpenCV.  \n",
    "\n",
    "* **Beware However:** if you start manipulating images with OpenCV, keep in mind that it defaults to `BGR` instead of `RGB` color space when reading/writing images, so things can get confusing."
   ]
  },
  {
   "cell_type": "code",
   "execution_count": null,
   "metadata": {
    "collapsed": true
   },
   "outputs": [],
   "source": [
    "# Identify pixels above the threshold\n",
    "# Threshold of RGB > 160 does a nice job of identifying ground pixels only\n",
    "def color_thresh(img, rgb_thresh=(160, 160, 160)):\n",
    "    # Create an array of zeros same xy size as img, but single channel\n",
    "    color_select = np.zeros_like(img[:,:,0])\n",
    "    # Require that each pixel be above all three threshold values in RGB\n",
    "    # above_thresh will now contain a boolean array with \"True\"\n",
    "    # where threshold was met\n",
    "    above_thresh = (img[:,:,0] > rgb_thresh[0]) \\\n",
    "                & (img[:,:,1] > rgb_thresh[1]) \\\n",
    "                & (img[:,:,2] > rgb_thresh[2])\n",
    "    # Index the array of zeros with the boolean array and set to 1\n",
    "    color_select[above_thresh] = 1\n",
    "    # Return the binary image\n",
    "    return color_select\n",
    "\n",
    "threshed = color_thresh(warped)\n",
    "plt.imshow(threshed, cmap='gray')\n",
    "#scipy.misc.imsave('../output/warped_threshed.jpg', threshed*255)"
   ]
  },
  {
   "cell_type": "markdown",
   "metadata": {},
   "source": [
    "## Coordinate Transformations\n",
    "Define the functions used to do coordinate transforms and apply them to an image."
   ]
  },
  {
   "cell_type": "code",
   "execution_count": null,
   "metadata": {
    "collapsed": true,
    "outputExpanded": false
   },
   "outputs": [],
   "source": [
    "# Define a function to convert from image coords to rover coords\n",
    "def rover_coords(binary_img):\n",
    "    # Identify nonzero pixels\n",
    "    ypos, xpos = binary_img.nonzero()\n",
    "    # Calculate pixel positions with reference to the rover position being at the \n",
    "    # center bottom of the image.  \n",
    "    x_pixel = -(ypos - binary_img.shape[0]).astype(np.float)\n",
    "    y_pixel = -(xpos - binary_img.shape[1]/2 ).astype(np.float)\n",
    "    return x_pixel, y_pixel\n",
    "\n",
    "# Define a function to convert to radial coords in rover space\n",
    "def to_polar_coords(x_pixel, y_pixel):\n",
    "    # Convert (x_pixel, y_pixel) to (distance, angle) \n",
    "    # in polar coordinates in rover space\n",
    "    # Calculate distance to each pixel\n",
    "    dist = np.sqrt(x_pixel**2 + y_pixel**2)\n",
    "    # Calculate angle away from vertical for each pixel\n",
    "    angles = np.arctan2(y_pixel, x_pixel)\n",
    "    return dist, angles\n",
    "\n",
    "# Define a function to map rover space pixels to world space\n",
    "def rotate_pix(xpix, ypix, yaw):\n",
    "    # Convert yaw to radians\n",
    "    yaw_rad = yaw * np.pi / 180\n",
    "    xpix_rotated = (xpix * np.cos(yaw_rad)) - (ypix * np.sin(yaw_rad))\n",
    "                            \n",
    "    ypix_rotated = (xpix * np.sin(yaw_rad)) + (ypix * np.cos(yaw_rad))\n",
    "    # Return the result  \n",
    "    return xpix_rotated, ypix_rotated\n",
    "\n",
    "def translate_pix(xpix_rot, ypix_rot, xpos, ypos, scale): \n",
    "    # Apply a scaling and a translation\n",
    "    xpix_translated = (xpix_rot / scale) + xpos\n",
    "    ypix_translated = (ypix_rot / scale) + ypos\n",
    "    # Return the result  \n",
    "    return xpix_translated, ypix_translated\n",
    "\n",
    "\n",
    "# Define a function to apply rotation and translation (and clipping)\n",
    "# Once you define the two functions above this function should work\n",
    "def pix_to_world(xpix, ypix, xpos, ypos, yaw, world_size, scale):\n",
    "    # Apply rotation\n",
    "    xpix_rot, ypix_rot = rotate_pix(xpix, ypix, yaw)\n",
    "    # Apply translation\n",
    "    xpix_tran, ypix_tran = translate_pix(xpix_rot, ypix_rot, xpos, ypos, scale)\n",
    "    # Perform rotation, translation and clipping all at once\n",
    "    x_pix_world = np.clip(np.int_(xpix_tran), 0, world_size - 1)\n",
    "    y_pix_world = np.clip(np.int_(ypix_tran), 0, world_size - 1)\n",
    "    # Return the result\n",
    "    return x_pix_world, y_pix_world\n",
    "\n",
    "# Grab another random image\n",
    "idx = np.random.randint(0, len(img_list)-1)\n",
    "image = mpimg.imread(img_list[idx])\n",
    "warped = perspect_transform(image, source, destination)\n",
    "threshed = color_thresh(warped)\n",
    "\n",
    "# Calculate pixel values in rover-centric coords and distance/angle to all pixels\n",
    "xpix, ypix = rover_coords(threshed)\n",
    "dist, angles = to_polar_coords(xpix, ypix)\n",
    "mean_dir = np.mean(angles)\n",
    "\n",
    "# Do some plotting\n",
    "fig = plt.figure(figsize=(12,9))\n",
    "plt.subplot(221)\n",
    "plt.imshow(image)\n",
    "plt.subplot(222)\n",
    "plt.imshow(warped)\n",
    "plt.subplot(223)\n",
    "plt.imshow(threshed, cmap='gray')\n",
    "plt.subplot(224)\n",
    "plt.plot(xpix, ypix, '.')\n",
    "plt.ylim(-160, 160)\n",
    "plt.xlim(0, 160)\n",
    "arrow_length = 100\n",
    "x_arrow = arrow_length * np.cos(mean_dir)\n",
    "y_arrow = arrow_length * np.sin(mean_dir)\n",
    "plt.arrow(0, 0, x_arrow, y_arrow, color='red', zorder=2, head_width=10, width=2)\n",
    "\n"
   ]
  },
  {
   "cell_type": "markdown",
   "metadata": {},
   "source": [
    "## Read in saved data and ground truth map of the world\n",
    "The next cell is all setup to read your saved data into a `pandas` dataframe.  Here you'll also read in a \"ground truth\" map of the world, where white pixels (pixel value = 1) represent navigable terrain.  \n",
    "\n",
    "After that, we'll define a class to store telemetry data and pathnames to images.  When you instantiate this class (`data = Databucket()`) you'll have a global variable called `data` that you can refer to for telemetry and map data within the `process_image()` function in the following cell.  \n"
   ]
  },
  {
   "cell_type": "code",
   "execution_count": null,
   "metadata": {
    "collapsed": true,
    "inputHidden": false,
    "outputHidden": false
   },
   "outputs": [],
   "source": [
    "# Import pandas and read in csv file as a dataframe\n",
    "import pandas as pd\n",
    "# Change the path below to your data directory\n",
    "# If you are in a locale (e.g., Europe) that uses ',' as the decimal separator\n",
    "# change the '.' to ','\n",
    "df = pd.read_csv('../test_dataset/robot_log.csv', delimiter=';', decimal='.')\n",
    "csv_img_list = df[\"Path\"].tolist() # Create list of image pathnames\n",
    "# Read in ground truth map and create a 3-channel image with it\n",
    "ground_truth = mpimg.imread('../calibration_images/map_bw.png')\n",
    "ground_truth_3d = np.dstack((ground_truth*0, ground_truth*255, ground_truth*0)).astype(np.float)\n",
    "\n",
    "# Creating a class to be the data container\n",
    "# Will read in saved data from csv file and populate this object\n",
    "# Worldmap is instantiated as 200 x 200 grids corresponding \n",
    "# to a 200m x 200m space (same size as the ground truth map: 200 x 200 pixels)\n",
    "# This encompasses the full range of output position values in x and y from the sim\n",
    "class Databucket():\n",
    "    def __init__(self):\n",
    "        self.images = csv_img_list  \n",
    "        self.xpos = df[\"X_Position\"].values\n",
    "        self.ypos = df[\"Y_Position\"].values\n",
    "        self.yaw = df[\"Yaw\"].values\n",
    "        self.count = 0 # This will be a running index\n",
    "        self.worldmap = np.zeros((200, 200, 3)).astype(np.float)\n",
    "        self.ground_truth = ground_truth_3d # Ground truth worldmap\n",
    "\n",
    "# Instantiate a Databucket().. this will be a global variable/object\n",
    "# that you can refer to in the process_image() function below\n",
    "data = Databucket()\n"
   ]
  },
  {
   "cell_type": "markdown",
   "metadata": {},
   "source": [
    "## Write a function to process stored images\n",
    "\n",
    "Modify the `process_image()` function below by adding in the perception step processes (functions defined above) to perform image analysis and mapping.  The following cell is all set up to use this `process_image()` function in conjunction with the `moviepy` video processing package to create a video from the images you saved taking data in the simulator.  \n",
    "\n",
    "In short, you will be passing individual images into `process_image()` and building up an image called `output_image` that will be stored as one frame of video.  You can make a mosaic of the various steps of your analysis process and add text as you like (example provided below).  \n",
    "\n",
    "\n",
    "\n",
    "To start with, you can simply run the next three cells to see what happens, but then go ahead and modify them such that the output video demonstrates your mapping process.  Feel free to get creative!"
   ]
  },
  {
   "cell_type": "code",
   "execution_count": null,
   "metadata": {
    "collapsed": true
   },
   "outputs": [],
   "source": [
    "\n",
    "# Define a function to pass stored images to\n",
    "# reading rover position and yaw angle from csv file\n",
    "# This function will be used by moviepy to create an output video\n",
    "def process_image(img):\n",
    "    # Example of how to use the Databucket() object defined above\n",
    "    # to print the current x, y and yaw values \n",
    "    # print(data.xpos[data.count], data.ypos[data.count], data.yaw[data.count])\n",
    "\n",
    "    # TODO: \n",
    "    # 1) Define source and destination points for perspective transform\n",
    "    # 2) Apply perspective transform\n",
    "    # 3) Apply color threshold to identify navigable terrain/obstacles/rock samples\n",
    "    # 4) Convert thresholded image pixel values to rover-centric coords\n",
    "    # 5) Convert rover-centric pixel values to world coords\n",
    "    # 6) Update worldmap (to be displayed on right side of screen)\n",
    "        # Example: data.worldmap[obstacle_y_world, obstacle_x_world, 0] += 1\n",
    "        #          data.worldmap[rock_y_world, rock_x_world, 1] += 1\n",
    "        #          data.worldmap[navigable_y_world, navigable_x_world, 2] += 1\n",
    "\n",
    "    # 7) Make a mosaic image, below is some example code\n",
    "        # First create a blank image (can be whatever shape you like)\n",
    "    output_image = np.zeros((img.shape[0] + data.worldmap.shape[0], img.shape[1]*2, 3))\n",
    "        # Next you can populate regions of the image with various output\n",
    "        # Here I'm putting the original image in the upper left hand corner\n",
    "    output_image[0:img.shape[0], 0:img.shape[1]] = img\n",
    "\n",
    "        # Let's create more images to add to the mosaic, first a warped image\n",
    "    warped = perspect_transform(img, source, destination)\n",
    "        # Add the warped image in the upper right hand corner\n",
    "    output_image[0:img.shape[0], img.shape[1]:] = warped\n",
    "\n",
    "        # Overlay worldmap with ground truth map\n",
    "    map_add = cv2.addWeighted(data.worldmap, 1, data.ground_truth, 0.5, 0)\n",
    "        # Flip map overlay so y-axis points upward and add to output_image \n",
    "    output_image[img.shape[0]:, 0:data.worldmap.shape[1]] = np.flipud(map_add)\n",
    "\n",
    "\n",
    "        # Then putting some text over the image\n",
    "    cv2.putText(output_image,\"Populate this image with your analyses to make a video!\", (20, 20), \n",
    "                cv2.FONT_HERSHEY_COMPLEX, 0.4, (255, 255, 255), 1)\n",
    "    if data.count < len(data.images) - 1:\n",
    "        data.count += 1 # Keep track of the index in the Databucket()\n",
    "    \n",
    "    return output_image"
   ]
  },
  {
   "cell_type": "markdown",
   "metadata": {},
   "source": [
    "## Make a video from processed image data\n",
    "Use the [moviepy](https://zulko.github.io/moviepy/) library to process images and create a video.\n",
    "  "
   ]
  },
  {
   "cell_type": "code",
   "execution_count": null,
   "metadata": {
    "collapsed": true,
    "scrolled": false
   },
   "outputs": [],
   "source": [
    "# Import everything needed to edit/save/watch video clips\n",
    "from moviepy.editor import VideoFileClip\n",
    "from moviepy.editor import ImageSequenceClip\n",
    "\n",
    "\n",
    "# Define pathname to save the output video\n",
    "output = '../output/test_mapping.mp4'\n",
    "data = Databucket() # Re-initialize data in case you're running this cell multiple times\n",
    "clip = ImageSequenceClip(data.images, fps=60) # Note: output video will be sped up because \n",
    "                                          # recording rate in simulator is fps=25\n",
    "new_clip = clip.fl_image(process_image) #NOTE: this function expects color images!!\n",
    "%time new_clip.write_videofile(output, audio=False)"
   ]
  },
  {
   "cell_type": "markdown",
   "metadata": {},
   "source": [
    "### This next cell should function as an inline video player\n",
    "If this fails to render the video, try running the following cell (alternative video rendering method).  You can also simply have a look at the saved mp4 in your `/output` folder"
   ]
  },
  {
   "cell_type": "code",
   "execution_count": null,
   "metadata": {
    "collapsed": true
   },
   "outputs": [],
   "source": [
    "\n",
    "from IPython.display import HTML\n",
    "HTML(\"\"\"\n",
    "<video width=\"960\" height=\"540\" controls>\n",
    "  <source src=\"{0}\">\n",
    "</video>\n",
    "\"\"\".format(output))"
   ]
  },
  {
   "cell_type": "markdown",
   "metadata": {},
   "source": [
    "### Below is an alternative way to create a video in case the above cell did not work."
   ]
  },
  {
   "cell_type": "code",
   "execution_count": null,
   "metadata": {
    "collapsed": true
   },
   "outputs": [],
   "source": [
    "import io\n",
    "import base64\n",
    "video = io.open(output, 'r+b').read()\n",
    "encoded_video = base64.b64encode(video)\n",
    "HTML(data='''<video alt=\"test\" controls>\n",
    "                <source src=\"data:video/mp4;base64,{0}\" type=\"video/mp4\" />\n",
    "             </video>'''.format(encoded_video.decode('ascii')))"
   ]
  },
  {
   "cell_type": "code",
   "execution_count": null,
   "metadata": {
    "collapsed": true
   },
   "outputs": [],
   "source": []
  }
 ],
 "metadata": {
  "anaconda-cloud": {},
  "kernel_info": {
   "name": "python3"
  },
  "kernelspec": {
   "display_name": "Python 3",
   "language": "python",
   "name": "python3"
  },
  "language_info": {
   "codemirror_mode": {
    "name": "ipython",
    "version": 3
   },
   "file_extension": ".py",
   "mimetype": "text/x-python",
   "name": "python",
   "nbconvert_exporter": "python",
   "pygments_lexer": "ipython3",
   "version": "3.6.1"
  },
  "widgets": {
   "state": {},
   "version": "1.1.2"
  }
 },
 "nbformat": 4,
 "nbformat_minor": 1
}
